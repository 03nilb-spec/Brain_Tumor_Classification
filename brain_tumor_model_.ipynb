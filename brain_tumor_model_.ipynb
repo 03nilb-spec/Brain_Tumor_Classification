{
 "cells": [
  {
   "cell_type": "markdown",
   "id": "d0e9391f-4714-43a1-8ae4-e88753c98829",
   "metadata": {
    "jp-MarkdownHeadingCollapsed": true
   },
   "source": [
    "# Project Name - Brain Tumor MRI Image Classification "
   ]
  },
  {
   "cell_type": "markdown",
   "id": "1977bc2a-30b2-44cc-a957-368dee3d3308",
   "metadata": {},
   "source": [
    "### Project Type - Image Classification \n",
    "### Name - Nilesh Bahirgaonkar"
   ]
  },
  {
   "cell_type": "markdown",
   "id": "6b94f304-a9c2-4458-adcf-c50751ee72d5",
   "metadata": {
    "jp-MarkdownHeadingCollapsed": true
   },
   "source": [
    "# Project Summary"
   ]
  },
  {
   "cell_type": "markdown",
   "id": "621439e9-8589-4b81-a779-7a7dc602d8ea",
   "metadata": {},
   "source": [
    "- This project focuses on brain tumor MRI image classification using both Custom CNN (from Scratch) and Pre-trained models through transfer learning.\n",
    "- The dataset is preprocessed with normalization, resizing them tp 224 x 224.\n",
    "- Data Augmentation to improve generalization and performance. \n",
    "- Class imbalance has been dealed using computed class weights.\n",
    "- A custom CNN is built, trained, evaluated and achieved and accuracy of 68%.\n",
    "- Followed with a transfer learning using a pretrained model (MobileNetV2), which achieves better performance, it achieved an accuracy of 86%.\n",
    "- Evaluation metrics like accuracy,precision,recall,F1 score has been calculated using classification report and confusion matrix is used.\n",
    "- The final models have saved in .h5 format."
   ]
  },
  {
   "cell_type": "markdown",
   "id": "02c9f394-e92a-4e73-ae63-98fb6505f9db",
   "metadata": {
    "jp-MarkdownHeadingCollapsed": true
   },
   "source": [
    "# GitHub Link "
   ]
  },
  {
   "cell_type": "markdown",
   "id": "af97240e-4bd9-4fb1-b119-0a9f2245a0ca",
   "metadata": {
    "jp-MarkdownHeadingCollapsed": true
   },
   "source": [
    "# Problem Statement "
   ]
  },
  {
   "cell_type": "markdown",
   "id": "a5612a91-0ca4-4493-ab1e-c85349d76535",
   "metadata": {},
   "source": [
    "This project aims to develop a deep learning-based solution for classifying brain MRI images into multiple categories according to tumor type."
   ]
  },
  {
   "cell_type": "markdown",
   "id": "7261c963-4d73-4cc8-bf7c-6c116f2d3a53",
   "metadata": {
    "jp-MarkdownHeadingCollapsed": true
   },
   "source": [
    "# Loading the data "
   ]
  },
  {
   "cell_type": "code",
   "execution_count": 1,
   "id": "f6da240e-fdbc-49d5-a428-29ffe495c09c",
   "metadata": {},
   "outputs": [
    {
     "name": "stdout",
     "output_type": "stream",
     "text": [
      "Found 1695 images belonging to 4 classes.\n",
      "Found 502 images belonging to 4 classes.\n",
      "Found 246 images belonging to 4 classes.\n"
     ]
    }
   ],
   "source": [
    "import tensorflow as tf\n",
    "from tensorflow.keras.preprocessing.image import ImageDataGenerator\n",
    "\n",
    "base_dir = './'  \n",
    "\n",
    "\n",
    "img_height, img_width = 224, 224\n",
    "batch_size = 32\n",
    "\n",
    "train_gen = ImageDataGenerator(rescale=1./255)\n",
    "valid_gen = ImageDataGenerator(rescale=1./255)\n",
    "test_gen  = ImageDataGenerator(rescale=1./255)\n",
    "\n",
    "\n",
    "train_data = train_gen.flow_from_directory(\n",
    "    directory=base_dir + 'train',\n",
    "    target_size=(img_height, img_width),\n",
    "    batch_size=batch_size,\n",
    "    class_mode='categorical'\n",
    ")\n",
    "\n",
    "valid_data = valid_gen.flow_from_directory(\n",
    "    directory=base_dir + 'valid',\n",
    "    target_size=(img_height, img_width),\n",
    "    batch_size=batch_size,\n",
    "    class_mode='categorical'\n",
    ")\n",
    "\n",
    "test_data = test_gen.flow_from_directory(\n",
    "    directory=base_dir + 'test',\n",
    "    target_size=(img_height, img_width),\n",
    "    batch_size=batch_size,\n",
    "    class_mode='categorical',\n",
    "    shuffle=False\n",
    ")\n"
   ]
  },
  {
   "cell_type": "markdown",
   "id": "41606a12-62bb-4953-ad75-f031d9ebe070",
   "metadata": {
    "jp-MarkdownHeadingCollapsed": true
   },
   "source": [
    "# Understand the dataset"
   ]
  },
  {
   "cell_type": "code",
   "execution_count": 2,
   "id": "7b96cd29-c191-4ad0-a66d-0a2bb451d1ad",
   "metadata": {},
   "outputs": [
    {
     "name": "stdout",
     "output_type": "stream",
     "text": [
      "Total Categories: 4\n"
     ]
    }
   ],
   "source": [
    "# Number of Categories \n",
    "print('Total Categories:',train_data.num_classes)"
   ]
  },
  {
   "cell_type": "code",
   "execution_count": 3,
   "id": "c76595d1-3247-4bc9-8ff0-1827f580484e",
   "metadata": {},
   "outputs": [
    {
     "name": "stdout",
     "output_type": "stream",
     "text": [
      "Categories and their labels: {'glioma': 0, 'meningioma': 1, 'no_tumor': 2, 'pituitary': 3}\n"
     ]
    }
   ],
   "source": [
    "# Check Categories names and their corressponding labels\n",
    "print('Categories and their labels:',train_data.class_indices)"
   ]
  },
  {
   "cell_type": "code",
   "execution_count": 4,
   "id": "02d43dfd-93f4-43a8-a98b-0fa059341053",
   "metadata": {},
   "outputs": [
    {
     "name": "stdout",
     "output_type": "stream",
     "text": [
      "Train Samples: 1695\n",
      "Test Samples: 246\n",
      "Valid Samples: 502\n"
     ]
    }
   ],
   "source": [
    "# Total samples\n",
    "print('Train Samples:',train_data.samples)\n",
    "print('Test Samples:',test_data.samples)\n",
    "print('Valid Samples:',valid_data.samples)"
   ]
  },
  {
   "cell_type": "code",
   "execution_count": 5,
   "id": "8c3e725e-c432-4503-9747-80f9d30faff6",
   "metadata": {},
   "outputs": [],
   "source": [
    "# So we see that there are 4 Categories: {'glioma': 0, 'meningioma': 1, 'no_tumor': 2, 'pituitary': 3}, and are labelled as 0,1,2,3\n",
    "# And we have 1695 Samples(images) in Train dataset\n",
    "# 246 samples(images) in test dataset \n",
    "# 5502 samples(images) in valid dataset"
   ]
  },
  {
   "cell_type": "markdown",
   "id": "97b4063b-4bb2-4632-a46b-0efd5330c3e2",
   "metadata": {},
   "source": [
    "### Checking for class imbalance and image distributions "
   ]
  },
  {
   "cell_type": "code",
   "execution_count": 6,
   "id": "d08f5d44-4eb2-4220-9ecc-42b3b84ed8fe",
   "metadata": {},
   "outputs": [
    {
     "data": {
      "image/png": "[encoded data removed]",
      "text/plain": [
       "<Figure size 800x600 with 1 Axes>"
      ]
     },
     "metadata": {},
     "output_type": "display_data"
    }
   ],
   "source": [
    "import numpy as np\n",
    "import matplotlib.pyplot as plt\n",
    "import seaborn as sns\n",
    "\n",
    "# Get class labels and class names\n",
    "class_labels = train_data.classes\n",
    "class_names = list(train_data.class_indices.keys())\n",
    "\n",
    "# Count images per class\n",
    "class_counts = np.bincount(class_labels)\n",
    "\n",
    "# Visualize class distribution\n",
    "plt.figure(figsize=(8, 6))\n",
    "sns.barplot(x=class_names, y=class_counts)\n",
    "plt.title(\"Class Distribution in Training Set\")\n",
    "plt.xlabel(\"Tumor Class\")\n",
    "plt.ylabel(\"Number of Images\")\n",
    "plt.xticks(rotation=45)\n",
    "plt.tight_layout()\n",
    "plt.show()\n"
   ]
  },
  {
   "cell_type": "code",
   "execution_count": 7,
   "id": "49685b70-2e42-45ec-8248-cdc611f2d720",
   "metadata": {},
   "outputs": [],
   "source": [
    "# So we see that our dataset is imbalanced.\n",
    "# Glioma Samples are more than the other three categories. \n",
    "# we will be balancing the dataset using compute class weight"
   ]
  },
  {
   "cell_type": "code",
   "execution_count": 8,
   "id": "01d6af5e-2af0-4875-8edf-78ea6ea0dd14",
   "metadata": {},
   "outputs": [
    {
     "name": "stdout",
     "output_type": "stream",
     "text": [
      "Class Weights: {0: 0.7513297872340425, 1: 1.183659217877095, 2: 1.2649253731343284, 3: 0.9674657534246576}\n"
     ]
    }
   ],
   "source": [
    "from sklearn.utils.class_weight import compute_class_weight\n",
    "import numpy as np \n",
    "\n",
    "weights = compute_class_weight(class_weight='balanced',classes = np.unique(class_labels),y=class_labels)\n",
    "class_weights = dict(enumerate(weights))\n",
    "\n",
    "print(\"Class Weights:\",class_weights)"
   ]
  },
  {
   "cell_type": "code",
   "execution_count": 9,
   "id": "f8299dd5-e27a-49cb-8b31-30d26ceaa078",
   "metadata": {},
   "outputs": [],
   "source": [
    "# so the weights are balanced now"
   ]
  },
  {
   "cell_type": "markdown",
   "id": "ecc7fb1c-0665-454e-b9b1-511cc97af9b3",
   "metadata": {
    "jp-MarkdownHeadingCollapsed": true
   },
   "source": [
    "# Data Preprocessing  "
   ]
  },
  {
   "cell_type": "markdown",
   "id": "f0619277-20dd-4e34-a860-453d8d4b7196",
   "metadata": {},
   "source": [
    "### Normalizing the Pixel size"
   ]
  },
  {
   "cell_type": "code",
   "execution_count": 10,
   "id": "a69e7b1e-9582-4298-9083-4683fc6afde7",
   "metadata": {},
   "outputs": [],
   "source": [
    "# In the Step 'loading dataset' we used imagegenerator, there we have normalized the pixel size to 0-1 using,\n",
    "\n",
    "# train_gen = ImageDataGenerator(rescale=1./255)\n",
    "# valid_gen = ImageDataGenerator(rescale=1./255)\n",
    "# test_gen  = ImageDataGenerator(rescale=1./255)"
   ]
  },
  {
   "cell_type": "markdown",
   "id": "2d3ced9f-d74e-453b-96ff-60a804ec2dbd",
   "metadata": {},
   "source": [
    "### Resizing images to 224 x 224"
   ]
  },
  {
   "cell_type": "code",
   "execution_count": 11,
   "id": "a498b762-b320-4a95-a557-7e4996e241e9",
   "metadata": {},
   "outputs": [],
   "source": [
    "# We have done this similar to normalizing, we have done it in loading dataset,\n",
    "\n",
    "# we defined our pixel size:\n",
    "    # img_height, img_width = 224, 224\n",
    "\n",
    "# then we used them in generators :\n",
    "# train_data = train_gen.flow_from_directory(\n",
    "#     directory=base_dir + 'train',\n",
    "#     target_size=(img_height, img_width),\n",
    "#     batch_size=batch_size,\n",
    "#     class_mode='categorical'\n",
    "# )\n",
    "\n",
    "# valid_data = valid_gen.flow_from_directory(\n",
    "#     directory=base_dir + 'valid',\n",
    "#     target_size=(img_height, img_width),\n",
    "#     batch_size=batch_size,\n",
    "#     class_mode='categorical'\n",
    "# )\n",
    "\n",
    "# test_data = test_gen.flow_from_directory(\n",
    "#     directory=base_dir + 'test',\n",
    "#     target_size=(img_height, img_width),\n",
    "#     batch_size=batch_size,\n",
    "#     class_mode='categorical',\n",
    "#     shuffle=False\n",
    "# )\n",
    "\n",
    "# now it will select all images and resize them to 224 x 224"
   ]
  },
  {
   "cell_type": "markdown",
   "id": "8e1101d5-8fa4-4cd8-8915-dac8721fd563",
   "metadata": {
    "jp-MarkdownHeadingCollapsed": true
   },
   "source": [
    "# Data Augmentation "
   ]
  },
  {
   "cell_type": "code",
   "execution_count": 12,
   "id": "fba76d98-5440-463b-a8f7-ff98fe5189a7",
   "metadata": {},
   "outputs": [],
   "source": [
    "# We will be applying data augmentation to only traininig data. \n",
    "# Will update the train_gen, we used it before only for normalizing(train_gen = ImageGenerator(rescale=1./255))"
   ]
  },
  {
   "cell_type": "code",
   "execution_count": 13,
   "id": "195caada-55bc-40ab-b4a1-ab30ba740b8d",
   "metadata": {},
   "outputs": [],
   "source": [
    "train_gen = ImageDataGenerator(rescale=1./255,\n",
    "                               width_shift_range=0.1,\n",
    "                               height_shift_range=0.1,\n",
    "                               rotation_range=20,\n",
    "                               zoom_range=0.1,\n",
    "                               brightness_range=(0.8,1.3),\n",
    "                               horizontal_flip=True,\n",
    "                               vertical_flip=False\n",
    ")"
   ]
  },
  {
   "cell_type": "code",
   "execution_count": 14,
   "id": "1dd0533d-1e18-46d3-96e4-055966bcb671",
   "metadata": {},
   "outputs": [
    {
     "name": "stdout",
     "output_type": "stream",
     "text": [
      "Found 1695 images belonging to 4 classes.\n"
     ]
    }
   ],
   "source": [
    "# Loading the data again with updated train_gen\n",
    "\n",
    "train_data = train_gen.flow_from_directory(\n",
    "    directory=base_dir + 'train',\n",
    "    target_size=(img_height, img_width),\n",
    "    batch_size=batch_size,\n",
    "    class_mode='categorical'\n",
    ")"
   ]
  },
  {
   "cell_type": "markdown",
   "id": "025c8606-f280-4b08-9166-c0927fe5a167",
   "metadata": {
    "jp-MarkdownHeadingCollapsed": true
   },
   "source": [
    "# Model Building "
   ]
  },
  {
   "cell_type": "markdown",
   "id": "34a637a1-fc39-47fc-9c28-206de6045805",
   "metadata": {},
   "source": [
    "### Custom CNN "
   ]
  },
  {
   "cell_type": "markdown",
   "id": "eeb676b6-0b66-40ae-b533-18c4649dceff",
   "metadata": {},
   "source": [
    "### Importing Libraries "
   ]
  },
  {
   "cell_type": "code",
   "execution_count": 15,
   "id": "4b51909f-7eac-404e-8671-f7db0863b98e",
   "metadata": {},
   "outputs": [],
   "source": [
    "from tensorflow.keras.layers import Conv2D, MaxPooling2D, Dense, Dropout, Flatten, BatchNormalization\n",
    "from tensorflow.keras.models import Sequential"
   ]
  },
  {
   "cell_type": "markdown",
   "id": "c14dd60c-a691-4d55-9686-5c1f7c037136",
   "metadata": {},
   "source": [
    "### CNN "
   ]
  },
  {
   "cell_type": "code",
   "execution_count": 16,
   "id": "731c5715-4708-449b-99d4-229ccd2aa6e0",
   "metadata": {},
   "outputs": [
    {
     "name": "stderr",
     "output_type": "stream",
     "text": [
      "C:\\Anaconda3\\envs\\py310\\lib\\site-packages\\keras\\src\\layers\\convolutional\\base_conv.py:113: UserWarning: Do not pass an `input_shape`/`input_dim` argument to a layer. When using Sequential models, prefer using an `Input(shape)` object as the first layer in the model instead.\n",
      "  super().__init__(activity_regularizer=activity_regularizer, **kwargs)\n"
     ]
    }
   ],
   "source": [
    "model = Sequential([\n",
    "    Conv2D(32,(3,3),activation='relu',input_shape = (img_height,img_width,3)),\n",
    "    BatchNormalization(),\n",
    "    MaxPooling2D(pool_size=(2,2)),\n",
    "\n",
    "    Conv2D(64,(3,3),activation='relu'),\n",
    "    BatchNormalization(),\n",
    "    MaxPooling2D(pool_size=(2,2)),\n",
    "\n",
    "    Conv2D(128,(3,3), activation='relu'),\n",
    "    BatchNormalization(),\n",
    "    MaxPooling2D(pool_size=(2,2)),\n",
    "    Dropout(0.3),\n",
    "\n",
    "    Flatten(),\n",
    "    Dense(128,activation='relu'),\n",
    "    Dropout(0.5),\n",
    "    Dense(train_data.num_classes,activation='softmax')\n",
    "])"
   ]
  },
  {
   "cell_type": "markdown",
   "id": "15c5e4e8-7cb4-4502-a0b8-1b4067c1ac0d",
   "metadata": {},
   "source": [
    "### Compiling the model "
   ]
  },
  {
   "cell_type": "code",
   "execution_count": 17,
   "id": "f3197401-2067-4400-bbeb-7d5e29fa72f6",
   "metadata": {},
   "outputs": [],
   "source": [
    "model.compile(optimizer='adam',loss='categorical_crossentropy',metrics=['accuracy'])"
   ]
  },
  {
   "cell_type": "markdown",
   "id": "0254afb6-3e23-4036-b73d-32ce10759c9c",
   "metadata": {},
   "source": [
    "### Summary"
   ]
  },
  {
   "cell_type": "code",
   "execution_count": 18,
   "id": "f1779f07-3a0c-4d45-bb3e-72917a8a579c",
   "metadata": {},
   "outputs": [
    {
     "data": {
      "text/html": [
       "<pre style=\"white-space:pre;overflow-x:auto;line-height:normal;font-family:Menlo,'DejaVu Sans Mono',consolas,'Courier New',monospace\"><span style=\"font-weight: bold\">Model: \"sequential\"</span>\n",
       "</pre>\n"
      ],
      "text/plain": [
       "\u001b[1mModel: \"sequential\"\u001b[0m\n"
      ]
     },
     "metadata": {},
     "output_type": "display_data"
    },
    {
     "data": {
      "text/html": [
       "<pre style=\"white-space:pre;overflow-x:auto;line-height:normal;font-family:Menlo,'DejaVu Sans Mono',consolas,'Courier New',monospace\">┏━━━━━━━━━━━━━━━━━━━━━━━━━━━━━━━━━┳━━━━━━━━━━━━━━━━━━━━━━━━┳━━━━━━━━━━━━━━━┓\n",
       "┃<span style=\"font-weight: bold\"> Layer (type)                    </span>┃<span style=\"font-weight: bold\"> Output Shape           </span>┃<span style=\"font-weight: bold\">       Param # </span>┃\n",
       "┡━━━━━━━━━━━━━━━━━━━━━━━━━━━━━━━━━╇━━━━━━━━━━━━━━━━━━━━━━━━╇━━━━━━━━━━━━━━━┩\n",
       "│ conv2d (<span style=\"color: #0087ff; text-decoration-color: #0087ff\">Conv2D</span>)                 │ (<span style=\"color: #00d7ff; text-decoration-color: #00d7ff\">None</span>, <span style=\"color: #00af00; text-decoration-color: #00af00\">222</span>, <span style=\"color: #00af00; text-decoration-color: #00af00\">222</span>, <span style=\"color: #00af00; text-decoration-color: #00af00\">32</span>)   │           <span style=\"color: #00af00; text-decoration-color: #00af00\">896</span> │\n",
       "├─────────────────────────────────┼────────────────────────┼───────────────┤\n",
       "│ batch_normalization             │ (<span style=\"color: #00d7ff; text-decoration-color: #00d7ff\">None</span>, <span style=\"color: #00af00; text-decoration-color: #00af00\">222</span>, <span style=\"color: #00af00; text-decoration-color: #00af00\">222</span>, <span style=\"color: #00af00; text-decoration-color: #00af00\">32</span>)   │           <span style=\"color: #00af00; text-decoration-color: #00af00\">128</span> │\n",
       "│ (<span style=\"color: #0087ff; text-decoration-color: #0087ff\">BatchNormalization</span>)            │                        │               │\n",
       "├─────────────────────────────────┼────────────────────────┼───────────────┤\n",
       "│ max_pooling2d (<span style=\"color: #0087ff; text-decoration-color: #0087ff\">MaxPooling2D</span>)    │ (<span style=\"color: #00d7ff; text-decoration-color: #00d7ff\">None</span>, <span style=\"color: #00af00; text-decoration-color: #00af00\">111</span>, <span style=\"color: #00af00; text-decoration-color: #00af00\">111</span>, <span style=\"color: #00af00; text-decoration-color: #00af00\">32</span>)   │             <span style=\"color: #00af00; text-decoration-color: #00af00\">0</span> │\n",
       "├─────────────────────────────────┼────────────────────────┼───────────────┤\n",
       "│ conv2d_1 (<span style=\"color: #0087ff; text-decoration-color: #0087ff\">Conv2D</span>)               │ (<span style=\"color: #00d7ff; text-decoration-color: #00d7ff\">None</span>, <span style=\"color: #00af00; text-decoration-color: #00af00\">109</span>, <span style=\"color: #00af00; text-decoration-color: #00af00\">109</span>, <span style=\"color: #00af00; text-decoration-color: #00af00\">64</span>)   │        <span style=\"color: #00af00; text-decoration-color: #00af00\">18,496</span> │\n",
       "├─────────────────────────────────┼────────────────────────┼───────────────┤\n",
       "│ batch_normalization_1           │ (<span style=\"color: #00d7ff; text-decoration-color: #00d7ff\">None</span>, <span style=\"color: #00af00; text-decoration-color: #00af00\">109</span>, <span style=\"color: #00af00; text-decoration-color: #00af00\">109</span>, <span style=\"color: #00af00; text-decoration-color: #00af00\">64</span>)   │           <span style=\"color: #00af00; text-decoration-color: #00af00\">256</span> │\n",
       "│ (<span style=\"color: #0087ff; text-decoration-color: #0087ff\">BatchNormalization</span>)            │                        │               │\n",
       "├─────────────────────────────────┼────────────────────────┼───────────────┤\n",
       "│ max_pooling2d_1 (<span style=\"color: #0087ff; text-decoration-color: #0087ff\">MaxPooling2D</span>)  │ (<span style=\"color: #00d7ff; text-decoration-color: #00d7ff\">None</span>, <span style=\"color: #00af00; text-decoration-color: #00af00\">54</span>, <span style=\"color: #00af00; text-decoration-color: #00af00\">54</span>, <span style=\"color: #00af00; text-decoration-color: #00af00\">64</span>)     │             <span style=\"color: #00af00; text-decoration-color: #00af00\">0</span> │\n",
       "├─────────────────────────────────┼────────────────────────┼───────────────┤\n",
       "│ conv2d_2 (<span style=\"color: #0087ff; text-decoration-color: #0087ff\">Conv2D</span>)               │ (<span style=\"color: #00d7ff; text-decoration-color: #00d7ff\">None</span>, <span style=\"color: #00af00; text-decoration-color: #00af00\">52</span>, <span style=\"color: #00af00; text-decoration-color: #00af00\">52</span>, <span style=\"color: #00af00; text-decoration-color: #00af00\">128</span>)    │        <span style=\"color: #00af00; text-decoration-color: #00af00\">73,856</span> │\n",
       "├─────────────────────────────────┼────────────────────────┼───────────────┤\n",
       "│ batch_normalization_2           │ (<span style=\"color: #00d7ff; text-decoration-color: #00d7ff\">None</span>, <span style=\"color: #00af00; text-decoration-color: #00af00\">52</span>, <span style=\"color: #00af00; text-decoration-color: #00af00\">52</span>, <span style=\"color: #00af00; text-decoration-color: #00af00\">128</span>)    │           <span style=\"color: #00af00; text-decoration-color: #00af00\">512</span> │\n",
       "│ (<span style=\"color: #0087ff; text-decoration-color: #0087ff\">BatchNormalization</span>)            │                        │               │\n",
       "├─────────────────────────────────┼────────────────────────┼───────────────┤\n",
       "│ max_pooling2d_2 (<span style=\"color: #0087ff; text-decoration-color: #0087ff\">MaxPooling2D</span>)  │ (<span style=\"color: #00d7ff; text-decoration-color: #00d7ff\">None</span>, <span style=\"color: #00af00; text-decoration-color: #00af00\">26</span>, <span style=\"color: #00af00; text-decoration-color: #00af00\">26</span>, <span style=\"color: #00af00; text-decoration-color: #00af00\">128</span>)    │             <span style=\"color: #00af00; text-decoration-color: #00af00\">0</span> │\n",
       "├─────────────────────────────────┼────────────────────────┼───────────────┤\n",
       "│ dropout (<span style=\"color: #0087ff; text-decoration-color: #0087ff\">Dropout</span>)               │ (<span style=\"color: #00d7ff; text-decoration-color: #00d7ff\">None</span>, <span style=\"color: #00af00; text-decoration-color: #00af00\">26</span>, <span style=\"color: #00af00; text-decoration-color: #00af00\">26</span>, <span style=\"color: #00af00; text-decoration-color: #00af00\">128</span>)    │             <span style=\"color: #00af00; text-decoration-color: #00af00\">0</span> │\n",
       "├─────────────────────────────────┼────────────────────────┼───────────────┤\n",
       "│ flatten (<span style=\"color: #0087ff; text-decoration-color: #0087ff\">Flatten</span>)               │ (<span style=\"color: #00d7ff; text-decoration-color: #00d7ff\">None</span>, <span style=\"color: #00af00; text-decoration-color: #00af00\">86528</span>)          │             <span style=\"color: #00af00; text-decoration-color: #00af00\">0</span> │\n",
       "├─────────────────────────────────┼────────────────────────┼───────────────┤\n",
       "│ dense (<span style=\"color: #0087ff; text-decoration-color: #0087ff\">Dense</span>)                   │ (<span style=\"color: #00d7ff; text-decoration-color: #00d7ff\">None</span>, <span style=\"color: #00af00; text-decoration-color: #00af00\">128</span>)            │    <span style=\"color: #00af00; text-decoration-color: #00af00\">11,075,712</span> │\n",
       "├─────────────────────────────────┼────────────────────────┼───────────────┤\n",
       "│ dropout_1 (<span style=\"color: #0087ff; text-decoration-color: #0087ff\">Dropout</span>)             │ (<span style=\"color: #00d7ff; text-decoration-color: #00d7ff\">None</span>, <span style=\"color: #00af00; text-decoration-color: #00af00\">128</span>)            │             <span style=\"color: #00af00; text-decoration-color: #00af00\">0</span> │\n",
       "├─────────────────────────────────┼────────────────────────┼───────────────┤\n",
       "│ dense_1 (<span style=\"color: #0087ff; text-decoration-color: #0087ff\">Dense</span>)                 │ (<span style=\"color: #00d7ff; text-decoration-color: #00d7ff\">None</span>, <span style=\"color: #00af00; text-decoration-color: #00af00\">4</span>)              │           <span style=\"color: #00af00; text-decoration-color: #00af00\">516</span> │\n",
       "└─────────────────────────────────┴────────────────────────┴───────────────┘\n",
       "</pre>\n"
      ],
      "text/plain": [
       "┏━━━━━━━━━━━━━━━━━━━━━━━━━━━━━━━━━┳━━━━━━━━━━━━━━━━━━━━━━━━┳━━━━━━━━━━━━━━━┓\n",
       "┃\u001b[1m \u001b[0m\u001b[1mLayer (type)                   \u001b[0m\u001b[1m \u001b[0m┃\u001b[1m \u001b[0m\u001b[1mOutput Shape          \u001b[0m\u001b[1m \u001b[0m┃\u001b[1m \u001b[0m\u001b[1m      Param #\u001b[0m\u001b[1m \u001b[0m┃\n",
       "┡━━━━━━━━━━━━━━━━━━━━━━━━━━━━━━━━━╇━━━━━━━━━━━━━━━━━━━━━━━━╇━━━━━━━━━━━━━━━┩\n",
       "│ conv2d (\u001b[38;5;33mConv2D\u001b[0m)                 │ (\u001b[38;5;45mNone\u001b[0m, \u001b[38;5;34m222\u001b[0m, \u001b[38;5;34m222\u001b[0m, \u001b[38;5;34m32\u001b[0m)   │           \u001b[38;5;34m896\u001b[0m │\n",
       "├─────────────────────────────────┼────────────────────────┼───────────────┤\n",
       "│ batch_normalization             │ (\u001b[38;5;45mNone\u001b[0m, \u001b[38;5;34m222\u001b[0m, \u001b[38;5;34m222\u001b[0m, \u001b[38;5;34m32\u001b[0m)   │           \u001b[38;5;34m128\u001b[0m │\n",
       "│ (\u001b[38;5;33mBatchNormalization\u001b[0m)            │                        │               │\n",
       "├─────────────────────────────────┼────────────────────────┼───────────────┤\n",
       "│ max_pooling2d (\u001b[38;5;33mMaxPooling2D\u001b[0m)    │ (\u001b[38;5;45mNone\u001b[0m, \u001b[38;5;34m111\u001b[0m, \u001b[38;5;34m111\u001b[0m, \u001b[38;5;34m32\u001b[0m)   │             \u001b[38;5;34m0\u001b[0m │\n",
       "├─────────────────────────────────┼────────────────────────┼───────────────┤\n",
       "│ conv2d_1 (\u001b[38;5;33mConv2D\u001b[0m)               │ (\u001b[38;5;45mNone\u001b[0m, \u001b[38;5;34m109\u001b[0m, \u001b[38;5;34m109\u001b[0m, \u001b[38;5;34m64\u001b[0m)   │        \u001b[38;5;34m18,496\u001b[0m │\n",
       "├─────────────────────────────────┼────────────────────────┼───────────────┤\n",
       "│ batch_normalization_1           │ (\u001b[38;5;45mNone\u001b[0m, \u001b[38;5;34m109\u001b[0m, \u001b[38;5;34m109\u001b[0m, \u001b[38;5;34m64\u001b[0m)   │           \u001b[38;5;34m256\u001b[0m │\n",
       "│ (\u001b[38;5;33mBatchNormalization\u001b[0m)            │                        │               │\n",
       "├─────────────────────────────────┼────────────────────────┼───────────────┤\n",
       "│ max_pooling2d_1 (\u001b[38;5;33mMaxPooling2D\u001b[0m)  │ (\u001b[38;5;45mNone\u001b[0m, \u001b[38;5;34m54\u001b[0m, \u001b[38;5;34m54\u001b[0m, \u001b[38;5;34m64\u001b[0m)     │             \u001b[38;5;34m0\u001b[0m │\n",
       "├─────────────────────────────────┼────────────────────────┼───────────────┤\n",
       "│ conv2d_2 (\u001b[38;5;33mConv2D\u001b[0m)               │ (\u001b[38;5;45mNone\u001b[0m, \u001b[38;5;34m52\u001b[0m, \u001b[38;5;34m52\u001b[0m, \u001b[38;5;34m128\u001b[0m)    │        \u001b[38;5;34m73,856\u001b[0m │\n",
       "├─────────────────────────────────┼────────────────────────┼───────────────┤\n",
       "│ batch_normalization_2           │ (\u001b[38;5;45mNone\u001b[0m, \u001b[38;5;34m52\u001b[0m, \u001b[38;5;34m52\u001b[0m, \u001b[38;5;34m128\u001b[0m)    │           \u001b[38;5;34m512\u001b[0m │\n",
       "│ (\u001b[38;5;33mBatchNormalization\u001b[0m)            │                        │               │\n",
       "├─────────────────────────────────┼────────────────────────┼───────────────┤\n",
       "│ max_pooling2d_2 (\u001b[38;5;33mMaxPooling2D\u001b[0m)  │ (\u001b[38;5;45mNone\u001b[0m, \u001b[38;5;34m26\u001b[0m, \u001b[38;5;34m26\u001b[0m, \u001b[38;5;34m128\u001b[0m)    │             \u001b[38;5;34m0\u001b[0m │\n",
       "├─────────────────────────────────┼────────────────────────┼───────────────┤\n",
       "│ dropout (\u001b[38;5;33mDropout\u001b[0m)               │ (\u001b[38;5;45mNone\u001b[0m, \u001b[38;5;34m26\u001b[0m, \u001b[38;5;34m26\u001b[0m, \u001b[38;5;34m128\u001b[0m)    │             \u001b[38;5;34m0\u001b[0m │\n",
       "├─────────────────────────────────┼────────────────────────┼───────────────┤\n",
       "│ flatten (\u001b[38;5;33mFlatten\u001b[0m)               │ (\u001b[38;5;45mNone\u001b[0m, \u001b[38;5;34m86528\u001b[0m)          │             \u001b[38;5;34m0\u001b[0m │\n",
       "├─────────────────────────────────┼────────────────────────┼───────────────┤\n",
       "│ dense (\u001b[38;5;33mDense\u001b[0m)                   │ (\u001b[38;5;45mNone\u001b[0m, \u001b[38;5;34m128\u001b[0m)            │    \u001b[38;5;34m11,075,712\u001b[0m │\n",
       "├─────────────────────────────────┼────────────────────────┼───────────────┤\n",
       "│ dropout_1 (\u001b[38;5;33mDropout\u001b[0m)             │ (\u001b[38;5;45mNone\u001b[0m, \u001b[38;5;34m128\u001b[0m)            │             \u001b[38;5;34m0\u001b[0m │\n",
       "├─────────────────────────────────┼────────────────────────┼───────────────┤\n",
       "│ dense_1 (\u001b[38;5;33mDense\u001b[0m)                 │ (\u001b[38;5;45mNone\u001b[0m, \u001b[38;5;34m4\u001b[0m)              │           \u001b[38;5;34m516\u001b[0m │\n",
       "└─────────────────────────────────┴────────────────────────┴───────────────┘\n"
      ]
     },
     "metadata": {},
     "output_type": "display_data"
    },
    {
     "data": {
      "text/html": [
       "<pre style=\"white-space:pre;overflow-x:auto;line-height:normal;font-family:Menlo,'DejaVu Sans Mono',consolas,'Courier New',monospace\"><span style=\"font-weight: bold\"> Total params: </span><span style=\"color: #00af00; text-decoration-color: #00af00\">11,170,372</span> (42.61 MB)\n",
       "</pre>\n"
      ],
      "text/plain": [
       "\u001b[1m Total params: \u001b[0m\u001b[38;5;34m11,170,372\u001b[0m (42.61 MB)\n"
      ]
     },
     "metadata": {},
     "output_type": "display_data"
    },
    {
     "data": {
      "text/html": [
       "<pre style=\"white-space:pre;overflow-x:auto;line-height:normal;font-family:Menlo,'DejaVu Sans Mono',consolas,'Courier New',monospace\"><span style=\"font-weight: bold\"> Trainable params: </span><span style=\"color: #00af00; text-decoration-color: #00af00\">11,169,924</span> (42.61 MB)\n",
       "</pre>\n"
      ],
      "text/plain": [
       "\u001b[1m Trainable params: \u001b[0m\u001b[38;5;34m11,169,924\u001b[0m (42.61 MB)\n"
      ]
     },
     "metadata": {},
     "output_type": "display_data"
    },
    {
     "data": {
      "text/html": [
       "<pre style=\"white-space:pre;overflow-x:auto;line-height:normal;font-family:Menlo,'DejaVu Sans Mono',consolas,'Courier New',monospace\"><span style=\"font-weight: bold\"> Non-trainable params: </span><span style=\"color: #00af00; text-decoration-color: #00af00\">448</span> (1.75 KB)\n",
       "</pre>\n"
      ],
      "text/plain": [
       "\u001b[1m Non-trainable params: \u001b[0m\u001b[38;5;34m448\u001b[0m (1.75 KB)\n"
      ]
     },
     "metadata": {},
     "output_type": "display_data"
    }
   ],
   "source": [
    "model.summary()"
   ]
  },
  {
   "cell_type": "markdown",
   "id": "a6623a3d-e17a-4e9d-8871-21fa0e3893ab",
   "metadata": {},
   "source": [
    "### Training the Model"
   ]
  },
  {
   "cell_type": "code",
   "execution_count": 19,
   "id": "a8950c68-dd08-468b-8c18-14b3f26916a4",
   "metadata": {},
   "outputs": [
    {
     "name": "stderr",
     "output_type": "stream",
     "text": [
      "C:\\Anaconda3\\envs\\py310\\lib\\site-packages\\keras\\src\\trainers\\data_adapters\\py_dataset_adapter.py:121: UserWarning: Your `PyDataset` class should call `super().__init__(**kwargs)` in its constructor. `**kwargs` can include `workers`, `use_multiprocessing`, `max_queue_size`. Do not pass these arguments to `fit()`, as they will be ignored.\n",
      "  self._warn_if_super_not_called()\n"
     ]
    },
    {
     "name": "stdout",
     "output_type": "stream",
     "text": [
      "Epoch 1/15\n",
      "\u001b[1m53/53\u001b[0m \u001b[32m━━━━━━━━━━━━━━━━━━━━\u001b[0m\u001b[37m\u001b[0m \u001b[1m76s\u001b[0m 1s/step - accuracy: 0.4415 - loss: 8.8241 - val_accuracy: 0.2390 - val_loss: 16.9490\n",
      "Epoch 2/15\n",
      "\u001b[1m53/53\u001b[0m \u001b[32m━━━━━━━━━━━━━━━━━━━━\u001b[0m\u001b[37m\u001b[0m \u001b[1m74s\u001b[0m 1s/step - accuracy: 0.4118 - loss: 1.6122 - val_accuracy: 0.2351 - val_loss: 20.4384\n",
      "Epoch 3/15\n",
      "\u001b[1m53/53\u001b[0m \u001b[32m━━━━━━━━━━━━━━━━━━━━\u001b[0m\u001b[37m\u001b[0m \u001b[1m74s\u001b[0m 1s/step - accuracy: 0.4333 - loss: 1.2669 - val_accuracy: 0.2351 - val_loss: 19.5058\n",
      "Epoch 4/15\n",
      "\u001b[1m53/53\u001b[0m \u001b[32m━━━━━━━━━━━━━━━━━━━━\u001b[0m\u001b[37m\u001b[0m \u001b[1m75s\u001b[0m 1s/step - accuracy: 0.4159 - loss: 1.2871 - val_accuracy: 0.2390 - val_loss: 13.3611\n",
      "Epoch 5/15\n",
      "\u001b[1m53/53\u001b[0m \u001b[32m━━━━━━━━━━━━━━━━━━━━\u001b[0m\u001b[37m\u001b[0m \u001b[1m722s\u001b[0m 14s/step - accuracy: 0.3811 - loss: 1.3082 - val_accuracy: 0.2131 - val_loss: 2.5352\n",
      "Epoch 6/15\n",
      "\u001b[1m53/53\u001b[0m \u001b[32m━━━━━━━━━━━━━━━━━━━━\u001b[0m\u001b[37m\u001b[0m \u001b[1m75s\u001b[0m 1s/step - accuracy: 0.3240 - loss: 1.3535 - val_accuracy: 0.3147 - val_loss: 1.8790\n",
      "Epoch 7/15\n",
      "\u001b[1m53/53\u001b[0m \u001b[32m━━━━━━━━━━━━━━━━━━━━\u001b[0m\u001b[37m\u001b[0m \u001b[1m75s\u001b[0m 1s/step - accuracy: 0.3816 - loss: 1.2357 - val_accuracy: 0.3446 - val_loss: 1.5089\n",
      "Epoch 8/15\n",
      "\u001b[1m53/53\u001b[0m \u001b[32m━━━━━━━━━━━━━━━━━━━━\u001b[0m\u001b[37m\u001b[0m \u001b[1m75s\u001b[0m 1s/step - accuracy: 0.4284 - loss: 1.2549 - val_accuracy: 0.5697 - val_loss: 1.0918\n",
      "Epoch 9/15\n",
      "\u001b[1m53/53\u001b[0m \u001b[32m━━━━━━━━━━━━━━━━━━━━\u001b[0m\u001b[37m\u001b[0m \u001b[1m227s\u001b[0m 4s/step - accuracy: 0.4636 - loss: 1.3124 - val_accuracy: 0.6076 - val_loss: 1.0847\n",
      "Epoch 10/15\n",
      "\u001b[1m53/53\u001b[0m \u001b[32m━━━━━━━━━━━━━━━━━━━━\u001b[0m\u001b[37m\u001b[0m \u001b[1m78s\u001b[0m 1s/step - accuracy: 0.4103 - loss: 1.2894 - val_accuracy: 0.6116 - val_loss: 1.0978\n",
      "Epoch 11/15\n",
      "\u001b[1m53/53\u001b[0m \u001b[32m━━━━━━━━━━━━━━━━━━━━\u001b[0m\u001b[37m\u001b[0m \u001b[1m78s\u001b[0m 1s/step - accuracy: 0.4061 - loss: 1.2332 - val_accuracy: 0.1992 - val_loss: 8.6376\n",
      "Epoch 12/15\n",
      "\u001b[1m53/53\u001b[0m \u001b[32m━━━━━━━━━━━━━━━━━━━━\u001b[0m\u001b[37m\u001b[0m \u001b[1m75s\u001b[0m 1s/step - accuracy: 0.4473 - loss: 1.2259 - val_accuracy: 0.6873 - val_loss: 0.8541\n",
      "Epoch 13/15\n",
      "\u001b[1m53/53\u001b[0m \u001b[32m━━━━━━━━━━━━━━━━━━━━\u001b[0m\u001b[37m\u001b[0m \u001b[1m75s\u001b[0m 1s/step - accuracy: 0.4759 - loss: 1.1929 - val_accuracy: 0.6434 - val_loss: 0.9306\n",
      "Epoch 14/15\n",
      "\u001b[1m53/53\u001b[0m \u001b[32m━━━━━━━━━━━━━━━━━━━━\u001b[0m\u001b[37m\u001b[0m \u001b[1m75s\u001b[0m 1s/step - accuracy: 0.4535 - loss: 1.1407 - val_accuracy: 0.6315 - val_loss: 0.8786\n",
      "Epoch 15/15\n",
      "\u001b[1m53/53\u001b[0m \u001b[32m━━━━━━━━━━━━━━━━━━━━\u001b[0m\u001b[37m\u001b[0m \u001b[1m75s\u001b[0m 1s/step - accuracy: 0.4413 - loss: 1.1340 - val_accuracy: 0.6892 - val_loss: 0.8972\n"
     ]
    }
   ],
   "source": [
    "history = model.fit(train_data,\n",
    "                    validation_data=valid_data,\n",
    "                    epochs=15,\n",
    "                    class_weight=class_weights\n",
    ")"
   ]
  },
  {
   "cell_type": "markdown",
   "id": "c7a816c6-8a26-4a56-a1f7-3d3c7fec30ac",
   "metadata": {
    "jp-MarkdownHeadingCollapsed": true
   },
   "source": [
    "# Transfer Learning "
   ]
  },
  {
   "cell_type": "markdown",
   "id": "81759f80-6fa6-46d2-a022-70605bcd8021",
   "metadata": {},
   "source": [
    "### Import Libraries "
   ]
  },
  {
   "cell_type": "code",
   "execution_count": 34,
   "id": "5cfbe6dc-029c-46aa-ae7f-17ec3e5c4239",
   "metadata": {},
   "outputs": [],
   "source": [
    "from tensorflow.keras.applications import MobileNetV2\n",
    "from tensorflow.keras.models import Model\n",
    "from tensorflow.keras.layers import GlobalAveragePooling2D\n",
    "from tensorflow.keras.optimizers import Adam"
   ]
  },
  {
   "cell_type": "code",
   "execution_count": 35,
   "id": "1074f151-866c-472f-a557-83bc6b3f5736",
   "metadata": {},
   "outputs": [],
   "source": [
    "# Load base model \n",
    "\n",
    "base_model = MobileNetV2(input_shape=(224,224,3),\n",
    "                         include_top=False,\n",
    "                         weights='imagenet')"
   ]
  },
  {
   "cell_type": "markdown",
   "id": "be64f6f1-b1b3-4758-a9b0-115027fd3a2d",
   "metadata": {},
   "source": [
    "### Freezing the pretrained model "
   ]
  },
  {
   "cell_type": "code",
   "execution_count": 36,
   "id": "07f2953f-51c3-40e4-906b-591808e31544",
   "metadata": {},
   "outputs": [],
   "source": [
    "base_model.trainable = False"
   ]
  },
  {
   "cell_type": "code",
   "execution_count": 37,
   "id": "eb64a1cb-7b82-4e66-a489-c3e4f5d8916b",
   "metadata": {},
   "outputs": [],
   "source": [
    "# Since MobileNetV2 doesn’t know about brain tumors, we need to add our own dense layers to predict the 4 tumor types."
   ]
  },
  {
   "cell_type": "code",
   "execution_count": 38,
   "id": "ce356c53-fd53-4805-b41d-9cb457e02617",
   "metadata": {},
   "outputs": [],
   "source": [
    "model_2 = Sequential([\n",
    "    base_model,\n",
    "    GlobalAveragePooling2D(),\n",
    "    Dense(128,activation='relu'),\n",
    "    Dropout(0.3),\n",
    "    Dense(train_data.num_classes,activation='softmax')\n",
    "    \n",
    "])"
   ]
  },
  {
   "cell_type": "markdown",
   "id": "34dddd12-ebd6-42d9-8351-e539b98f3c66",
   "metadata": {},
   "source": [
    "### Compiling the model "
   ]
  },
  {
   "cell_type": "code",
   "execution_count": 39,
   "id": "05b5f612-0dfd-4299-a3ac-e8acfb75e86e",
   "metadata": {},
   "outputs": [],
   "source": [
    "model_2.compile(\n",
    "    optimizer='adam',\n",
    "    loss='categorical_crossentropy',\n",
    "    metrics=['accuracy']\n",
    ")"
   ]
  },
  {
   "cell_type": "markdown",
   "id": "1b2bd9f0-cd16-4646-bc81-d7aa683f77ec",
   "metadata": {},
   "source": [
    "### Training the model "
   ]
  },
  {
   "cell_type": "code",
   "execution_count": 40,
   "id": "d328c647-ae0f-405b-b4fd-1d83a5f51b77",
   "metadata": {},
   "outputs": [
    {
     "name": "stdout",
     "output_type": "stream",
     "text": [
      "Epoch 1/20\n",
      "\u001b[1m53/53\u001b[0m \u001b[32m━━━━━━━━━━━━━━━━━━━━\u001b[0m\u001b[37m\u001b[0m \u001b[1m47s\u001b[0m 821ms/step - accuracy: 0.5908 - loss: 1.0717 - val_accuracy: 0.7729 - val_loss: 0.5609\n",
      "Epoch 2/20\n",
      "\u001b[1m53/53\u001b[0m \u001b[32m━━━━━━━━━━━━━━━━━━━━\u001b[0m\u001b[37m\u001b[0m \u001b[1m42s\u001b[0m 791ms/step - accuracy: 0.8496 - loss: 0.4405 - val_accuracy: 0.8406 - val_loss: 0.4376\n",
      "Epoch 3/20\n",
      "\u001b[1m53/53\u001b[0m \u001b[32m━━━━━━━━━━━━━━━━━━━━\u001b[0m\u001b[37m\u001b[0m \u001b[1m42s\u001b[0m 794ms/step - accuracy: 0.8925 - loss: 0.3219 - val_accuracy: 0.8705 - val_loss: 0.3701\n",
      "Epoch 4/20\n",
      "\u001b[1m53/53\u001b[0m \u001b[32m━━━━━━━━━━━━━━━━━━━━\u001b[0m\u001b[37m\u001b[0m \u001b[1m44s\u001b[0m 824ms/step - accuracy: 0.8993 - loss: 0.2944 - val_accuracy: 0.8825 - val_loss: 0.3405\n",
      "Epoch 5/20\n",
      "\u001b[1m53/53\u001b[0m \u001b[32m━━━━━━━━━━━━━━━━━━━━\u001b[0m\u001b[37m\u001b[0m \u001b[1m41s\u001b[0m 784ms/step - accuracy: 0.8993 - loss: 0.2793 - val_accuracy: 0.8665 - val_loss: 0.3822\n",
      "Epoch 6/20\n",
      "\u001b[1m53/53\u001b[0m \u001b[32m━━━━━━━━━━━━━━━━━━━━\u001b[0m\u001b[37m\u001b[0m \u001b[1m41s\u001b[0m 779ms/step - accuracy: 0.9034 - loss: 0.2705 - val_accuracy: 0.8606 - val_loss: 0.4080\n",
      "Epoch 7/20\n",
      "\u001b[1m53/53\u001b[0m \u001b[32m━━━━━━━━━━━━━━━━━━━━\u001b[0m\u001b[37m\u001b[0m \u001b[1m41s\u001b[0m 781ms/step - accuracy: 0.9141 - loss: 0.2357 - val_accuracy: 0.8745 - val_loss: 0.3574\n",
      "Epoch 8/20\n",
      "\u001b[1m53/53\u001b[0m \u001b[32m━━━━━━━━━━━━━━━━━━━━\u001b[0m\u001b[37m\u001b[0m \u001b[1m41s\u001b[0m 780ms/step - accuracy: 0.9183 - loss: 0.2284 - val_accuracy: 0.8665 - val_loss: 0.3856\n",
      "Epoch 9/20\n",
      "\u001b[1m53/53\u001b[0m \u001b[32m━━━━━━━━━━━━━━━━━━━━\u001b[0m\u001b[37m\u001b[0m \u001b[1m41s\u001b[0m 770ms/step - accuracy: 0.9132 - loss: 0.2257 - val_accuracy: 0.8725 - val_loss: 0.3534\n",
      "Epoch 10/20\n",
      "\u001b[1m53/53\u001b[0m \u001b[32m━━━━━━━━━━━━━━━━━━━━\u001b[0m\u001b[37m\u001b[0m \u001b[1m42s\u001b[0m 796ms/step - accuracy: 0.9305 - loss: 0.2092 - val_accuracy: 0.8486 - val_loss: 0.4341\n",
      "Epoch 11/20\n",
      "\u001b[1m53/53\u001b[0m \u001b[32m━━━━━━━━━━━━━━━━━━━━\u001b[0m\u001b[37m\u001b[0m \u001b[1m43s\u001b[0m 811ms/step - accuracy: 0.9413 - loss: 0.1689 - val_accuracy: 0.8685 - val_loss: 0.3819\n",
      "Epoch 12/20\n",
      "\u001b[1m53/53\u001b[0m \u001b[32m━━━━━━━━━━━━━━━━━━━━\u001b[0m\u001b[37m\u001b[0m \u001b[1m41s\u001b[0m 767ms/step - accuracy: 0.9429 - loss: 0.1604 - val_accuracy: 0.8486 - val_loss: 0.4555\n",
      "Epoch 13/20\n",
      "\u001b[1m53/53\u001b[0m \u001b[32m━━━━━━━━━━━━━━━━━━━━\u001b[0m\u001b[37m\u001b[0m \u001b[1m42s\u001b[0m 796ms/step - accuracy: 0.9337 - loss: 0.1879 - val_accuracy: 0.8705 - val_loss: 0.3931\n",
      "Epoch 14/20\n",
      "\u001b[1m53/53\u001b[0m \u001b[32m━━━━━━━━━━━━━━━━━━━━\u001b[0m\u001b[37m\u001b[0m \u001b[1m41s\u001b[0m 774ms/step - accuracy: 0.9442 - loss: 0.1627 - val_accuracy: 0.8685 - val_loss: 0.4439\n",
      "Epoch 15/20\n",
      "\u001b[1m53/53\u001b[0m \u001b[32m━━━━━━━━━━━━━━━━━━━━\u001b[0m\u001b[37m\u001b[0m \u001b[1m41s\u001b[0m 780ms/step - accuracy: 0.9423 - loss: 0.1760 - val_accuracy: 0.8825 - val_loss: 0.3751\n",
      "Epoch 16/20\n",
      "\u001b[1m53/53\u001b[0m \u001b[32m━━━━━━━━━━━━━━━━━━━━\u001b[0m\u001b[37m\u001b[0m \u001b[1m41s\u001b[0m 767ms/step - accuracy: 0.9619 - loss: 0.1103 - val_accuracy: 0.8865 - val_loss: 0.3288\n",
      "Epoch 17/20\n",
      "\u001b[1m53/53\u001b[0m \u001b[32m━━━━━━━━━━━━━━━━━━━━\u001b[0m\u001b[37m\u001b[0m \u001b[1m41s\u001b[0m 767ms/step - accuracy: 0.9538 - loss: 0.1421 - val_accuracy: 0.8685 - val_loss: 0.4451\n",
      "Epoch 18/20\n",
      "\u001b[1m53/53\u001b[0m \u001b[32m━━━━━━━━━━━━━━━━━━━━\u001b[0m\u001b[37m\u001b[0m \u001b[1m41s\u001b[0m 783ms/step - accuracy: 0.9519 - loss: 0.1363 - val_accuracy: 0.9064 - val_loss: 0.2870\n",
      "Epoch 19/20\n",
      "\u001b[1m53/53\u001b[0m \u001b[32m━━━━━━━━━━━━━━━━━━━━\u001b[0m\u001b[37m\u001b[0m \u001b[1m41s\u001b[0m 768ms/step - accuracy: 0.9626 - loss: 0.1144 - val_accuracy: 0.8825 - val_loss: 0.3763\n",
      "Epoch 20/20\n",
      "\u001b[1m53/53\u001b[0m \u001b[32m━━━━━━━━━━━━━━━━━━━━\u001b[0m\u001b[37m\u001b[0m \u001b[1m41s\u001b[0m 778ms/step - accuracy: 0.9621 - loss: 0.1064 - val_accuracy: 0.8725 - val_loss: 0.4287\n"
     ]
    }
   ],
   "source": [
    "from tensorflow.keras.callbacks import EarlyStopping\n",
    "\n",
    "# Early Stopping \n",
    "early_stop = EarlyStopping(monitor='val_loss',\n",
    "                          patience=3,\n",
    "                          restore_best_weights=True)\n",
    "\n",
    "history_2 = model_2.fit(train_data,\n",
    "                      validation_data=valid_data,\n",
    "                      class_weight=class_weights,\n",
    "                     epochs=20)"
   ]
  },
  {
   "cell_type": "markdown",
   "id": "6e899bea-16fe-4492-8af5-9a91df19efce",
   "metadata": {
    "jp-MarkdownHeadingCollapsed": true
   },
   "source": [
    "# Model Evaluation"
   ]
  },
  {
   "cell_type": "markdown",
   "id": "3ab3c71e-7dad-4681-8a45-c0f854be1d95",
   "metadata": {},
   "source": [
    "### For Custom CNN "
   ]
  },
  {
   "cell_type": "code",
   "execution_count": 45,
   "id": "5fc2063a-2b64-4ee1-b209-959619df255b",
   "metadata": {},
   "outputs": [
    {
     "name": "stdout",
     "output_type": "stream",
     "text": [
      "\u001b[1m8/8\u001b[0m \u001b[32m━━━━━━━━━━━━━━━━━━━━\u001b[0m\u001b[37m\u001b[0m \u001b[1m2s\u001b[0m 193ms/step\n",
      "              precision    recall  f1-score   support\n",
      "\n",
      "      glioma       0.78      0.77      0.77        81\n",
      "  meningioma       0.40      0.51      0.45        49\n",
      "    no_tumor       0.63      0.79      0.70        39\n",
      "   pituitary       0.93      0.65      0.76        77\n",
      "\n",
      "    accuracy                           0.68       246\n",
      "   macro avg       0.68      0.68      0.67       246\n",
      "weighted avg       0.72      0.68      0.69       246\n",
      "\n"
     ]
    }
   ],
   "source": [
    "# Classification report \n",
    "from sklearn.metrics import classification_report\n",
    "pred = model.predict(test_data)\n",
    "pred_class = np.argmax(pred,axis=1)\n",
    "test_class = test_data.classes\n",
    "labels = list(test_data.class_indices.keys())\n",
    "print(classification_report(pred_class,test_class,target_names=labels))"
   ]
  },
  {
   "cell_type": "code",
   "execution_count": 46,
   "id": "d8942091-87c4-4568-bf03-39ea89ec92a2",
   "metadata": {},
   "outputs": [
    {
     "data": {
      "image/png": "[encoded data removed]",
      "text/plain": [
       "<Figure size 400x300 with 2 Axes>"
      ]
     },
     "metadata": {},
     "output_type": "display_data"
    }
   ],
   "source": [
    "# confusion matrix\n",
    "from sklearn.metrics import confusion_matrix\n",
    "import matplotlib.pyplot as plt \n",
    "cm = confusion_matrix(test_class,pred_class)\n",
    "plt.figure(figsize=[4,3])\n",
    "sns.heatmap(cm,annot=True,fmt='d',cmap='Blues',\n",
    "           xticklabels=labels,\n",
    "           yticklabels=labels)\n",
    "plt.title('Confusion Matrix')\n",
    "plt.xlabel('Predicted')\n",
    "plt.ylabel('Actual')\n",
    "plt.show()"
   ]
  },
  {
   "cell_type": "markdown",
   "id": "89a48775-8de2-47f6-8464-e0f3da197ba2",
   "metadata": {},
   "source": [
    "### For Pretrained Model "
   ]
  },
  {
   "cell_type": "code",
   "execution_count": 49,
   "id": "56db863a-3e8b-4ecc-a989-2c99464156d2",
   "metadata": {},
   "outputs": [
    {
     "name": "stdout",
     "output_type": "stream",
     "text": [
      "\u001b[1m8/8\u001b[0m \u001b[32m━━━━━━━━━━━━━━━━━━━━\u001b[0m\u001b[37m\u001b[0m \u001b[1m3s\u001b[0m 420ms/step\n",
      "              precision    recall  f1-score   support\n",
      "\n",
      "      glioma       0.88      0.97      0.92        72\n",
      "  meningioma       0.73      0.87      0.79        53\n",
      "    no_tumor       0.86      0.95      0.90        44\n",
      "   pituitary       1.00      0.70      0.82        77\n",
      "\n",
      "    accuracy                           0.86       246\n",
      "   macro avg       0.87      0.87      0.86       246\n",
      "weighted avg       0.88      0.86      0.86       246\n",
      "\n"
     ]
    }
   ],
   "source": [
    "# Classification report \n",
    "from sklearn.metrics import classification_report\n",
    "pred_2 = model_2.predict(test_data)\n",
    "pred_class_2 = np.argmax(pred_2,axis=1)\n",
    "test_class_2 = test_data.classes\n",
    "labels_2 = list(test_data.class_indices.keys())\n",
    "print(classification_report(pred_class_2,test_class_2,target_names=labels_2))"
   ]
  },
  {
   "cell_type": "code",
   "execution_count": 50,
   "id": "fc121eb8-c6da-4cae-8fa4-559d35743f56",
   "metadata": {},
   "outputs": [
    {
     "data": {
      "image/png": "[encoded data removed]",
      "text/plain": [
       "<Figure size 400x300 with 2 Axes>"
      ]
     },
     "metadata": {},
     "output_type": "display_data"
    }
   ],
   "source": [
    "# confusion matrix\n",
    "from sklearn.metrics import confusion_matrix\n",
    "cm = confusion_matrix(test_class_2,pred_class_2)\n",
    "plt.figure(figsize=[4,3])\n",
    "sns.heatmap(cm,annot=True,fmt='d',cmap='Blues',\n",
    "           xticklabels=labels_2,\n",
    "           yticklabels=labels_2)\n",
    "plt.title('Confusion Matrix')\n",
    "plt.xlabel('Predicted')\n",
    "plt.ylabel('Actual')\n",
    "plt.show()"
   ]
  },
  {
   "cell_type": "markdown",
   "id": "e8bedf14-fdca-412a-891b-79a5217792f5",
   "metadata": {},
   "source": [
    "# Visualization  "
   ]
  },
  {
   "cell_type": "markdown",
   "id": "9f60c1b1-2915-4ce7-a8d7-78ad812330b7",
   "metadata": {},
   "source": [
    "### For Custom CNN\n",
    "#### Visualizing Accuracy and Loss "
   ]
  },
  {
   "cell_type": "code",
   "execution_count": 51,
   "id": "299feca6-ee07-4382-8a27-004083bf1f20",
   "metadata": {},
   "outputs": [
    {
     "data": {
      "image/png": "[encoded data removed]",
      "text/plain": [
       "<Figure size 640x480 with 1 Axes>"
      ]
     },
     "metadata": {},
     "output_type": "display_data"
    }
   ],
   "source": [
    "# Accuracy Plot\n",
    "plt.plot(history.history['accuracy'], label='Train Accuracy')\n",
    "plt.plot(history.history['val_accuracy'],label='Validation Accuracy')\n",
    "plt.title('Model Accuracy')\n",
    "plt.xlabel('Epoch')\n",
    "plt.ylabel('Accuracy')\n",
    "plt.legend()\n",
    "plt.show()"
   ]
  },
  {
   "cell_type": "markdown",
   "id": "cae42194-e715-452a-9a51-76f1b01cbb20",
   "metadata": {},
   "source": [
    "#### Why did you choosed the specific chart ?"
   ]
  },
  {
   "cell_type": "markdown",
   "id": "74c6558c-01d4-4d9a-9f29-8fbb07bf09ac",
   "metadata": {
    "jp-MarkdownHeadingCollapsed": true
   },
   "source": [
    "#### It is a line plot, above used for Visualizing the Model Accuracyof custom CNN."
   ]
  },
  {
   "cell_type": "markdown",
   "id": "4196680f-0ba3-405a-b018-3bf2974b2f8d",
   "metadata": {
    "jp-MarkdownHeadingCollapsed": true
   },
   "source": [
    "#### What are the insights found from the chart?"
   ]
  },
  {
   "cell_type": "markdown",
   "id": "9bab1b1d-702c-45d8-b6cf-2cf82158666e",
   "metadata": {},
   "source": [
    "#### - We see that Validation accuracy has a very noisy curve which indicates fluctations in validation accuracy.\n",
    "#### - And also we see that, till 9th epoch the validation goes increasing, later faced fluctation.\n",
    "#### - Train accuracy also has noisy curve, but smoother as compared to validation accuracy"
   ]
  },
  {
   "cell_type": "code",
   "execution_count": 52,
   "id": "5c7c3535-603a-4890-9bf1-fc2e357cfdd8",
   "metadata": {},
   "outputs": [
    {
     "data": {
      "image/png": "[encoded data removed]",
      "text/plain": [
       "<Figure size 640x480 with 1 Axes>"
      ]
     },
     "metadata": {},
     "output_type": "display_data"
    }
   ],
   "source": [
    "# Loss Plot \n",
    "plt.plot(history.history['loss'],label = 'Train Loss')\n",
    "plt.plot(history.history['val_loss'],label='Validation Loss')\n",
    "plt.title('Model Loss')\n",
    "plt.xlabel('Epoch')\n",
    "plt.ylabel('Loss')\n",
    "plt.legend()\n",
    "plt.show()"
   ]
  },
  {
   "cell_type": "markdown",
   "id": "a7145c58-48ac-47bc-a610-843063439023",
   "metadata": {},
   "source": [
    "#### Why did you choosed the specific chart ?"
   ]
  },
  {
   "cell_type": "markdown",
   "id": "bb575d36-9ad1-4f35-8452-3d2e898b9df1",
   "metadata": {},
   "source": [
    "#### For Visualizing model Loss of Custom CNN."
   ]
  },
  {
   "cell_type": "markdown",
   "id": "c1e75bb7-a5df-45be-b642-75cddbf40647",
   "metadata": {},
   "source": [
    "#### What are the insights found from the chart?"
   ]
  },
  {
   "cell_type": "markdown",
   "id": "dbb23a0b-6ccf-47b8-bbfd-e20ac8c41cbb",
   "metadata": {},
   "source": [
    "#### - Validation loss has a large drop in between 2nd and 4th epoch.\n",
    "#### - Train loss has a smoother curve as compared to validation loss.\n",
    "#### - Both the curves nearly becomes asyptotes (i.e no change or minor change)"
   ]
  },
  {
   "cell_type": "markdown",
   "id": "3901e995-acfc-44a4-a09e-a8451aa6784a",
   "metadata": {},
   "source": [
    "### For Pre-trained model"
   ]
  },
  {
   "cell_type": "markdown",
   "id": "12131983-bcd7-4dd1-9117-49987e26707c",
   "metadata": {},
   "source": [
    "#### Visualizing Accuracy and Loss"
   ]
  },
  {
   "cell_type": "code",
   "execution_count": 53,
   "id": "49341d51-5fc4-4aba-8dff-5627baf7a9af",
   "metadata": {},
   "outputs": [
    {
     "data": {
      "image/png": "[encoded data removed]",
      "text/plain": [
       "<Figure size 640x480 with 1 Axes>"
      ]
     },
     "metadata": {},
     "output_type": "display_data"
    }
   ],
   "source": [
    "# Accuracy Plot\n",
    "plt.plot(history_2.history['accuracy'],label = 'Train Accuracy')\n",
    "plt.plot(history_2.history['val_accuracy'],label='Validation Accuracy')\n",
    "plt.title('Pretrained Model Accuracy')\n",
    "plt.xlabel('Epoch')\n",
    "plt.ylabel('Accuracy')\n",
    "plt.legend()\n",
    "plt.show()"
   ]
  },
  {
   "cell_type": "markdown",
   "id": "1abc6a74-9168-4bf9-8cb7-0412b9c7abb0",
   "metadata": {},
   "source": [
    "#### Why did you choosed the specific chart ?"
   ]
  },
  {
   "cell_type": "markdown",
   "id": "f59f9fd4-cced-42b0-ba9a-701b26fc676f",
   "metadata": {},
   "source": [
    "#### It is a line plot, above used for Visualizing the Model Accuracy of Pre-trained CNN."
   ]
  },
  {
   "cell_type": "markdown",
   "id": "50c0ce88-b53a-48b0-a367-9c89d1a8f7a7",
   "metadata": {},
   "source": [
    "#### What are the insights found from the chart?"
   ]
  },
  {
   "cell_type": "markdown",
   "id": "e6cb372c-fb32-4a48-90af-9817c51e719d",
   "metadata": {},
   "source": [
    "#### - The Accuracies became better at every epoch.\n",
    "#### - There are small fluctuations in both the curves, but has a small impact.\n",
    "#### - Indicates good train and validation accuracy."
   ]
  },
  {
   "cell_type": "code",
   "execution_count": 54,
   "id": "273fd284-9f39-4215-a4b0-0c43bdbcf8ba",
   "metadata": {},
   "outputs": [
    {
     "data": {
      "image/png": "[encoded data removed]",
      "text/plain": [
       "<Figure size 640x480 with 1 Axes>"
      ]
     },
     "metadata": {},
     "output_type": "display_data"
    }
   ],
   "source": [
    "# Loss Plot\n",
    "plt.plot(history_2.history['loss'],label = 'Train Loss')\n",
    "plt.plot(history_2.history['val_loss'],label='Validation Loss')\n",
    "plt.title('Pretrained Model Loss')\n",
    "plt.xlabel('Epoch')\n",
    "plt.ylabel('Loss')\n",
    "plt.legend()\n",
    "plt.show()"
   ]
  },
  {
   "cell_type": "markdown",
   "id": "858031e9-3c17-4330-a5fd-7c4d5aa3ecb1",
   "metadata": {},
   "source": [
    "#### Why did you choosed the specific chart ?"
   ]
  },
  {
   "cell_type": "markdown",
   "id": "472a3300-e012-490f-b2be-4c1b287f532a",
   "metadata": {},
   "source": [
    "#### For Visualizing model Loss of Pretrained CNN."
   ]
  },
  {
   "cell_type": "markdown",
   "id": "76c2b4a8-e91b-43f8-9187-9a61fdfd7f6f",
   "metadata": {},
   "source": [
    "#### What are the insights found from the chart?"
   ]
  },
  {
   "cell_type": "markdown",
   "id": "5af09b7a-aeb7-407f-bd04-2c0d13c086d9",
   "metadata": {},
   "source": [
    "#### - We see that the train loss has smoother curve as compared to validation loss.\n",
    "#### - The validation loss is strucked in between 0.3 and 0.5, but not asymptote, there can be changes after some implementations.\n",
    "#### - The train loss is decreasing and can be minimum if implemented in future."
   ]
  },
  {
   "cell_type": "markdown",
   "id": "364a54db-db21-48de-8328-e6f5abffcc55",
   "metadata": {},
   "source": [
    "# Model Comparison"
   ]
  },
  {
   "cell_type": "markdown",
   "id": "762620be-791e-4804-b842-860c3d671485",
   "metadata": {},
   "source": [
    "### Custom CNN vs Transfer learning (Pretrained) Using **Metrics**"
   ]
  },
  {
   "cell_type": "markdown",
   "id": "f4b6072d-e1c4-4d79-b8d9-2aa78257d36e",
   "metadata": {},
   "source": [
    "|Metrics|Custom CNN||Pretrained CNN|\n",
    "|-|-|-|-|\n",
    "|Accuracy|68%||86%|\n",
    "|Precision|Low For Meningioma||Good For Every Class|\n",
    "|Recall|Medium||Good For Every Class|\n",
    "|F1 Score|Low for Meningioma||Strong|\n",
    "|Summary|Simple Model, Fewer Layers||Used Pretrained model(MobileNetV2)|"
   ]
  },
  {
   "cell_type": "markdown",
   "id": "b3dae25d-134b-456d-a437-a7cdaba83141",
   "metadata": {
    "jp-MarkdownHeadingCollapsed": true
   },
   "source": [
    "### **Summary** - Custom CNN vs Pretrained CNN "
   ]
  },
  {
   "cell_type": "markdown",
   "id": "3156862d-3622-403a-89cf-24ee9ae5daf7",
   "metadata": {},
   "source": [
    "##### - The Custom Model achieved an accuracy of 68%, but struggled particularly with 'Meningioma' and 'Pituitary' classes.\n",
    "##### - And as compared to Pretrained CNN, Custom CNN has a very low accuracy (68%). \n",
    "##### - The Pretrained model achieved an accuracy of 86%, which is considered good. \n",
    "##### - The Pretrained model also performed very well for both 'Meningioma' and 'Pituitary' classes where custom CNN failed.\n",
    "##### - Also the training time for Pretrained model was less as compared to Custom CNN. \n",
    "##### - We see that overall performance of pretrained CNN is better as compared to Custom CNN."
   ]
  },
  {
   "cell_type": "markdown",
   "id": "95c886f9-979b-428a-a155-f84d82a0cd08",
   "metadata": {},
   "source": [
    "### Best Model for Deployment "
   ]
  },
  {
   "cell_type": "markdown",
   "id": "c6aabd25-2426-442c-822e-c19e0fdcd3af",
   "metadata": {},
   "source": [
    "##### Accuracy - Custom CNN vs Pretrained CNN (68 < 86).   \n",
    "##### Overall performance - Pretrained CNN has better performance than Custom CNN.\n",
    "\n",
    "#### The Pretrained CNN model is selected for deployment due to its higher accuracy, better class-wise performance. "
   ]
  },
  {
   "cell_type": "markdown",
   "id": "c5c4b3be-9f80-42c9-aff1-3428e02fcce6",
   "metadata": {},
   "source": [
    "# Saving the model"
   ]
  },
  {
   "cell_type": "code",
   "execution_count": 62,
   "id": "7a057778-93ee-45c6-92d5-c8a2ec9d6b95",
   "metadata": {},
   "outputs": [
    {
     "name": "stderr",
     "output_type": "stream",
     "text": [
      "WARNING:absl:You are saving your model as an HDF5 file via `model.save()` or `keras.saving.save_model(model)`. This file format is considered legacy. We recommend using instead the native Keras format, e.g. `model.save('my_model.keras')` or `keras.saving.save_model(model, 'my_model.keras')`. \n",
      "WARNING:absl:You are saving your model as an HDF5 file via `model.save()` or `keras.saving.save_model(model)`. This file format is considered legacy. We recommend using instead the native Keras format, e.g. `model.save('my_model.keras')` or `keras.saving.save_model(model, 'my_model.keras')`. \n"
     ]
    }
   ],
   "source": [
    "model.save(\"custom_cnn_model.h5\")\n",
    "model_2.save(\"pretrained_model.h5\")"
   ]
  },
  {
   "cell_type": "markdown",
   "id": "c46e9c9a-4d22-4c34-88e5-cbdef8409c6d",
   "metadata": {},
   "source": [
    "# Conclusion"
   ]
  },
  {
   "cell_type": "markdown",
   "id": "458dc6a6-0a39-4491-9ee4-31c3f9fcda97",
   "metadata": {},
   "source": [
    "### - In conclusion, we successfully implemented and compared custom CNN and pre-trained CNN model for Brain Tumor classification using MRI images.\n",
    "### - While the custom CNN achived moderate performance and the pre-trained CNN achieved strong performance as compared to custom CNN.\n",
    "### - The pre-trained model has a very good accuracy of 86% and has strong values for all the classes of tumor."
   ]
  },
  {
   "cell_type": "code",
   "execution_count": null,
   "id": "db60ccee-4f42-48e7-8763-a95e17760272",
   "metadata": {},
   "outputs": [],
   "source": []
  }
 ],
 "metadata": {
  "kernelspec": {
   "display_name": "Python (py310)",
   "language": "python",
   "name": "py310"
  },
  "language_info": {
   "codemirror_mode": {
    "name": "ipython",
    "version": 3
   },
   "file_extension": ".py",
   "mimetype": "text/x-python",
   "name": "python",
   "nbconvert_exporter": "python",
   "pygments_lexer": "ipython3",
   "version": "3.10.18"
  }
 },
 "nbformat": 4,
 "nbformat_minor": 5
}
